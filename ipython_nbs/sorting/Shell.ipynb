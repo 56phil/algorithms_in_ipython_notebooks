{
 "cells": [
  {
   "cell_type": "code",
   "execution_count": null,
   "metadata": {},
   "outputs": [],
   "source": [
    "gaps = [701, 301, 132, 57, 23, 10, 4, 1]\n",
    "\n",
    "def shell(ara):\n",
    "    while gaps[0] < len(ara) // 3:\n",
    "        gaps.insert(0, (gaps[0] << 1) - 1)\n",
    "    for gap in gaps:\n",
    "        for i in range(gap, len(ara)):\n",
    "            temp = ara[i]\n",
    "            j = i\n",
    "            while j >= gap and ara[j - gap] >= temp:\n",
    "                ara[j] = ara[j - gap]\n",
    "                j -= gap\n",
    "            ara[j] = temp\n",
    "    return ara"
   ]
  },
  {
   "cell_type": "code",
   "execution_count": null,
   "metadata": {},
   "outputs": [],
   "source": [
    "def quicksort1(ary):\n",
    "    if len(ary) < 2:\n",
    "        return ary\n",
    "    else:\n",
    "        pivot = ary[0]\n",
    "        smaller, bigger = [], []\n",
    "        for ele in ary[1:]:\n",
    "            if ele <= pivot:\n",
    "                smaller.append(ele)\n",
    "            else:\n",
    "                bigger.append(ele)\n",
    "        return quicksort1(smaller) + [pivot] + quicksort1(bigger)"
   ]
  },
  {
   "cell_type": "code",
   "execution_count": 3,
   "metadata": {},
   "outputs": [],
   "source": [
    "def quicksort2(ary):\n",
    "    if len(ary) < 2:\n",
    "        return ary\n",
    "    else:\n",
    "        pivot = ary[0]\n",
    "        smaller, bigger, para = [], [], []\n",
    "        for ele in ary:\n",
    "            if ele < pivot:\n",
    "                smaller.append(ele)\n",
    "            elif ele > pivot:\n",
    "                bigger.append(ele)\n",
    "            else:\n",
    "                para.append(ele)\n",
    "        return quicksort2(smaller) + para + quicksort2(bigger)"
   ]
  },
  {
   "cell_type": "code",
   "execution_count": 4,
   "metadata": {},
   "outputs": [],
   "source": [
    "def lst(a,b,c):\n",
    "    print(a[0],\"\\t\",a[-1])\n",
    "    print(b[0],\"\\t\",b[-1])\n",
    "    print(c[0],\"\\t\",c[-1])\n",
    "    "
   ]
  },
  {
   "cell_type": "code",
   "execution_count": 10,
   "metadata": {},
   "outputs": [
    {
     "name": "stdout",
     "output_type": "stream",
     "text": [
      "4,096 \t 64\n",
      "22.8 ms ± 68.3 µs per loop (mean ± std. dev. of 7 runs, 10 loops each)\n",
      "3.72 ms ± 15.7 µs per loop (mean ± std. dev. of 7 runs, 100 loops each)\n",
      "\n",
      "4,096 \t 256\n",
      "12.1 ms ± 145 µs per loop (mean ± std. dev. of 7 runs, 100 loops each)\n",
      "5.34 ms ± 73.3 µs per loop (mean ± std. dev. of 7 runs, 100 loops each)\n",
      "\n",
      "4,096 \t 1,024\n",
      "10.1 ms ± 124 µs per loop (mean ± std. dev. of 7 runs, 100 loops each)\n",
      "7.74 ms ± 53 µs per loop (mean ± std. dev. of 7 runs, 100 loops each)\n",
      "\n",
      "4,096 \t 4,096\n",
      "9.43 ms ± 78.3 µs per loop (mean ± std. dev. of 7 runs, 100 loops each)\n",
      "9.21 ms ± 133 µs per loop (mean ± std. dev. of 7 runs, 100 loops each)\n",
      "\n",
      "16,384 \t 256\n",
      "97.9 ms ± 930 µs per loop (mean ± std. dev. of 7 runs, 10 loops each)\n",
      "22.4 ms ± 625 µs per loop (mean ± std. dev. of 7 runs, 10 loops each)\n",
      "\n",
      "16,384 \t 1,024\n",
      "56.8 ms ± 783 µs per loop (mean ± std. dev. of 7 runs, 10 loops each)\n",
      "29.9 ms ± 477 µs per loop (mean ± std. dev. of 7 runs, 10 loops each)\n",
      "\n",
      "16,384 \t 4,096\n",
      "46.8 ms ± 1.26 ms per loop (mean ± std. dev. of 7 runs, 10 loops each)\n",
      "36.6 ms ± 404 µs per loop (mean ± std. dev. of 7 runs, 10 loops each)\n",
      "\n",
      "16,384 \t 16,384\n",
      "43.1 ms ± 411 µs per loop (mean ± std. dev. of 7 runs, 10 loops each)\n",
      "43.3 ms ± 850 µs per loop (mean ± std. dev. of 7 runs, 10 loops each)\n",
      "\n",
      "['__class__', '__delattr__', '__dict__', '__dir__', '__doc__', '__eq__', '__format__', '__ge__', '__getattribute__', '__gt__', '__hash__', '__init__', '__init_subclass__', '__le__', '__lt__', '__module__', '__ne__', '__new__', '__reduce__', '__reduce_ex__', '__repr__', '__setattr__', '__sizeof__', '__str__', '__subclasshook__', '__weakref__', '_precision', '_repr_pretty_', 'all_runs', 'average', 'best', 'compile_time', 'loops', 'repeat', 'stdev', 'timings', 'worst']\n",
      "Done.\n"
     ]
    }
   ],
   "source": [
    "from copy import copy\n",
    "import matplotlib.pyplot as plt\n",
    "import numpy as np\n",
    "#import pandas as pd\n",
    "#import os\n",
    "\n",
    "rows = 2\n",
    "cols = 4\n",
    "\n",
    "#fig, axes = plt.subplots(nrows=rows, ncols=cols, figsize=(16, 8))\n",
    "#ax = list(axes.flatten())\n",
    "\n",
    "n = 1 << 10\n",
    "b = n >> 8\n",
    "\n",
    "o1 = []\n",
    "o2 = []\n",
    "\n",
    "for i in range(rows):\n",
    "    n = n << 2\n",
    "    m = n >> (2 * cols)\n",
    "    for j in range(cols):\n",
    "        m = m << 2\n",
    "        a = np.random.randint(m, size=n)\n",
    "        #ax[i*cols+j].hist(a, b)\n",
    "        print(\"{:,} \\t {:,}\".format(n, m))\n",
    "        a1 = copy(a)\n",
    "        a2 = copy(a)\n",
    "        o = %timeit -o quicksort1(a1)\n",
    "        o1.append(o)\n",
    "        o = %timeit -o quicksort2(a2)\n",
    "        o2.append(o)\n",
    "        print()\n",
    "print(dir(o2[-1]))\n",
    "print(\"Done.\")\n",
    "#fig.tight_layout()\n",
    "#plt.show()"
   ]
  },
  {
   "cell_type": "code",
   "execution_count": 12,
   "metadata": {},
   "outputs": [
    {
     "name": "stdout",
     "output_type": "stream",
     "text": [
      "[0.4330130919115618, 0.42542184400372207, 0.43814400606788695, 0.43192124005872756, 0.43137671903241426, 0.42596711905207485, 0.4335441800067201]\n"
     ]
    }
   ],
   "source": [
    "print(o1[-1].all_runs)"
   ]
  },
  {
   "cell_type": "code",
   "execution_count": null,
   "metadata": {},
   "outputs": [],
   "source": []
  }
 ],
 "metadata": {
  "kernelspec": {
   "display_name": "Python 3",
   "language": "python",
   "name": "python3"
  },
  "language_info": {
   "codemirror_mode": {
    "name": "ipython",
    "version": 3
   },
   "file_extension": ".py",
   "mimetype": "text/x-python",
   "name": "python",
   "nbconvert_exporter": "python",
   "pygments_lexer": "ipython3",
   "version": "3.6.5"
  }
 },
 "nbformat": 4,
 "nbformat_minor": 2
}
